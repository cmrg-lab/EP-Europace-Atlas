{
 "cells": [
  {
   "cell_type": "code",
   "execution_count": 1,
   "metadata": {},
   "outputs": [],
   "source": [
    "import numpy as np\n",
    "import pandas as pd\n",
    "import matplotlib\n",
    "import matplotlib.pyplot as plt\n",
    "from matplotlib.ticker import MaxNLocator\n",
    "import matplotlib.ticker as ticker\n",
    "from sklearn.decomposition import PCA\n",
    "import seaborn as sns; sns.set_context(\"paper\");sns.set()\n",
    "from IPython.display import display\n",
    "import glob\n",
    "import sys\n",
    "import joblib\n",
    "sys.path.insert(-1,'../Tools')\n",
    "from data_parser_new import parse\n",
    "from data_modification import scale_at_patient\n",
    "\n",
    "\n",
    "matplotlib.rcParams['pdf.fonttype'] = 42\n",
    "matplotlib.rcParams['ps.fonttype'] = 42\n",
    "\n",
    "%matplotlib inline"
   ]
  },
  {
   "cell_type": "markdown",
   "metadata": {},
   "source": [
    "# Load Data"
   ]
  },
  {
   "cell_type": "code",
   "execution_count": 2,
   "metadata": {},
   "outputs": [],
   "source": [
    "data_path = '../Data/'\n",
    "patients = [\n",
    "            parse(initial_path=data_path, patient_number=patient_no, at_map = True, verbose = False) \n",
    "        #for patient_no in [0]\n",
    "        for patient_no in range(0,8)\n",
    "]"
   ]
  },
  {
   "cell_type": "code",
   "execution_count": 3,
   "metadata": {},
   "outputs": [],
   "source": [
    "patients = [scale_at_patient(patient, length=100) for patient in patients]"
   ]
  },
  {
   "cell_type": "code",
   "execution_count": 4,
   "metadata": {
    "scrolled": true
   },
   "outputs": [
    {
     "data": {
      "text/html": [
       "<div>\n",
       "<style scoped>\n",
       "    .dataframe tbody tr th:only-of-type {\n",
       "        vertical-align: middle;\n",
       "    }\n",
       "\n",
       "    .dataframe tbody tr th {\n",
       "        vertical-align: top;\n",
       "    }\n",
       "\n",
       "    .dataframe thead th {\n",
       "        text-align: right;\n",
       "    }\n",
       "</style>\n",
       "<table border=\"1\" class=\"dataframe\">\n",
       "  <thead>\n",
       "    <tr style=\"text-align: right;\">\n",
       "      <th></th>\n",
       "      <th>BiV7_001</th>\n",
       "      <th>BiV7_002</th>\n",
       "      <th>BiV7_003</th>\n",
       "      <th>BiV7_004</th>\n",
       "      <th>BiV7_005</th>\n",
       "      <th>BiV7_006</th>\n",
       "      <th>BiV7_007</th>\n",
       "      <th>BiV7_008</th>\n",
       "      <th>BiV7_009</th>\n",
       "      <th>BiV7_010</th>\n",
       "      <th>...</th>\n",
       "      <th>BiV5_172</th>\n",
       "      <th>BiV5_173</th>\n",
       "      <th>BiV5_174</th>\n",
       "      <th>BiV5_175</th>\n",
       "      <th>BiV5_176</th>\n",
       "      <th>BiV5_177</th>\n",
       "      <th>BiV5_178</th>\n",
       "      <th>BiV5_179</th>\n",
       "      <th>BiV5_180</th>\n",
       "      <th>BiV5_181</th>\n",
       "    </tr>\n",
       "  </thead>\n",
       "  <tbody>\n",
       "    <tr>\n",
       "      <th>1</th>\n",
       "      <td>8.75</td>\n",
       "      <td>27.160494</td>\n",
       "      <td>52.777778</td>\n",
       "      <td>69.230769</td>\n",
       "      <td>28.75</td>\n",
       "      <td>62.162162</td>\n",
       "      <td>82.278481</td>\n",
       "      <td>31.818182</td>\n",
       "      <td>27.586207</td>\n",
       "      <td>33.707865</td>\n",
       "      <td>...</td>\n",
       "      <td>25.000000</td>\n",
       "      <td>26.168224</td>\n",
       "      <td>23.148148</td>\n",
       "      <td>50.458716</td>\n",
       "      <td>34.905660</td>\n",
       "      <td>41.666667</td>\n",
       "      <td>41.121495</td>\n",
       "      <td>41.284404</td>\n",
       "      <td>41.666667</td>\n",
       "      <td>18.691589</td>\n",
       "    </tr>\n",
       "    <tr>\n",
       "      <th>2</th>\n",
       "      <td>28.75</td>\n",
       "      <td>14.814815</td>\n",
       "      <td>34.722222</td>\n",
       "      <td>51.282051</td>\n",
       "      <td>52.50</td>\n",
       "      <td>81.081081</td>\n",
       "      <td>89.873418</td>\n",
       "      <td>25.000000</td>\n",
       "      <td>37.931034</td>\n",
       "      <td>51.685393</td>\n",
       "      <td>...</td>\n",
       "      <td>41.346154</td>\n",
       "      <td>25.233645</td>\n",
       "      <td>28.703704</td>\n",
       "      <td>58.715596</td>\n",
       "      <td>24.528302</td>\n",
       "      <td>55.555556</td>\n",
       "      <td>26.168224</td>\n",
       "      <td>36.697248</td>\n",
       "      <td>57.407407</td>\n",
       "      <td>25.233645</td>\n",
       "    </tr>\n",
       "    <tr>\n",
       "      <th>3</th>\n",
       "      <td>51.25</td>\n",
       "      <td>29.629630</td>\n",
       "      <td>19.444444</td>\n",
       "      <td>30.769231</td>\n",
       "      <td>71.25</td>\n",
       "      <td>81.081081</td>\n",
       "      <td>82.278481</td>\n",
       "      <td>32.954545</td>\n",
       "      <td>49.425287</td>\n",
       "      <td>65.168539</td>\n",
       "      <td>...</td>\n",
       "      <td>54.807692</td>\n",
       "      <td>24.299065</td>\n",
       "      <td>30.555556</td>\n",
       "      <td>54.128440</td>\n",
       "      <td>16.037736</td>\n",
       "      <td>57.407407</td>\n",
       "      <td>9.345794</td>\n",
       "      <td>24.770642</td>\n",
       "      <td>64.814815</td>\n",
       "      <td>32.710280</td>\n",
       "    </tr>\n",
       "    <tr>\n",
       "      <th>4</th>\n",
       "      <td>73.75</td>\n",
       "      <td>50.617284</td>\n",
       "      <td>34.722222</td>\n",
       "      <td>17.948718</td>\n",
       "      <td>88.75</td>\n",
       "      <td>89.189189</td>\n",
       "      <td>77.215190</td>\n",
       "      <td>51.136364</td>\n",
       "      <td>66.666667</td>\n",
       "      <td>80.898876</td>\n",
       "      <td>...</td>\n",
       "      <td>72.115385</td>\n",
       "      <td>39.252336</td>\n",
       "      <td>45.370370</td>\n",
       "      <td>57.798165</td>\n",
       "      <td>31.132075</td>\n",
       "      <td>65.740741</td>\n",
       "      <td>19.626168</td>\n",
       "      <td>31.192661</td>\n",
       "      <td>73.148148</td>\n",
       "      <td>49.532710</td>\n",
       "    </tr>\n",
       "    <tr>\n",
       "      <th>5</th>\n",
       "      <td>23.75</td>\n",
       "      <td>46.913580</td>\n",
       "      <td>75.000000</td>\n",
       "      <td>88.461538</td>\n",
       "      <td>10.00</td>\n",
       "      <td>35.135135</td>\n",
       "      <td>58.227848</td>\n",
       "      <td>45.454545</td>\n",
       "      <td>32.183908</td>\n",
       "      <td>22.471910</td>\n",
       "      <td>...</td>\n",
       "      <td>11.538462</td>\n",
       "      <td>34.579439</td>\n",
       "      <td>28.703704</td>\n",
       "      <td>38.532110</td>\n",
       "      <td>44.339623</td>\n",
       "      <td>26.851852</td>\n",
       "      <td>54.205607</td>\n",
       "      <td>46.788991</td>\n",
       "      <td>25.000000</td>\n",
       "      <td>26.168224</td>\n",
       "    </tr>\n",
       "  </tbody>\n",
       "</table>\n",
       "<p>5 rows × 1420 columns</p>\n",
       "</div>"
      ],
      "text/plain": [
       "   BiV7_001   BiV7_002   BiV7_003   BiV7_004  BiV7_005   BiV7_006   BiV7_007  \\\n",
       "1      8.75  27.160494  52.777778  69.230769     28.75  62.162162  82.278481   \n",
       "2     28.75  14.814815  34.722222  51.282051     52.50  81.081081  89.873418   \n",
       "3     51.25  29.629630  19.444444  30.769231     71.25  81.081081  82.278481   \n",
       "4     73.75  50.617284  34.722222  17.948718     88.75  89.189189  77.215190   \n",
       "5     23.75  46.913580  75.000000  88.461538     10.00  35.135135  58.227848   \n",
       "\n",
       "    BiV7_008   BiV7_009   BiV7_010  ...   BiV5_172   BiV5_173   BiV5_174  \\\n",
       "1  31.818182  27.586207  33.707865  ...  25.000000  26.168224  23.148148   \n",
       "2  25.000000  37.931034  51.685393  ...  41.346154  25.233645  28.703704   \n",
       "3  32.954545  49.425287  65.168539  ...  54.807692  24.299065  30.555556   \n",
       "4  51.136364  66.666667  80.898876  ...  72.115385  39.252336  45.370370   \n",
       "5  45.454545  32.183908  22.471910  ...  11.538462  34.579439  28.703704   \n",
       "\n",
       "    BiV5_175   BiV5_176   BiV5_177   BiV5_178   BiV5_179   BiV5_180   BiV5_181  \n",
       "1  50.458716  34.905660  41.666667  41.121495  41.284404  41.666667  18.691589  \n",
       "2  58.715596  24.528302  55.555556  26.168224  36.697248  57.407407  25.233645  \n",
       "3  54.128440  16.037736  57.407407   9.345794  24.770642  64.814815  32.710280  \n",
       "4  57.798165  31.132075  65.740741  19.626168  31.192661  73.148148  49.532710  \n",
       "5  38.532110  44.339623  26.851852  54.205607  46.788991  25.000000  26.168224  \n",
       "\n",
       "[5 rows x 1420 columns]"
      ]
     },
     "execution_count": 4,
     "metadata": {},
     "output_type": "execute_result"
    }
   ],
   "source": [
    "# Concatinate data\n",
    "all_at = pd.concat([patient['at_maps'].add_prefix(patient['pt_id']+'_') for patient in patients],axis=1)\n",
    "all_at.head()"
   ]
  },
  {
   "cell_type": "code",
   "execution_count": 5,
   "metadata": {},
   "outputs": [
    {
     "name": "stdout",
     "output_type": "stream",
     "text": [
      "(10705, 1420)\n",
      "Index([], dtype='object')\n",
      "(10705, 1420)\n",
      "(1420, 10705)\n"
     ]
    }
   ],
   "source": [
    "print(all_at.shape)\n",
    "failed = all_at.columns[~all_at.any()]\n",
    "print(failed)\n",
    "all_at = all_at.drop(failed,axis=1,)\n",
    "print(all_at.shape)\n",
    "X_train = all_at.to_numpy().transpose()\n",
    "print(X_train.shape)"
   ]
  },
  {
   "cell_type": "code",
   "execution_count": 6,
   "metadata": {},
   "outputs": [
    {
     "name": "stdout",
     "output_type": "stream",
     "text": [
      "Number of features: 10705\n",
      "Number of components: 20\n",
      "Component matrix shape: (20,10705)\n"
     ]
    }
   ],
   "source": [
    "# Run PCA\n",
    "pca = PCA(n_components=20)\n",
    "pca.fit(X_train) # fit trains the PCA\n",
    "eigvals = pca.singular_values_\n",
    "components = np.array(pca.components_)\n",
    "\n",
    "ncomp = components.shape[0]\n",
    "nfeat = components.shape[1]\n",
    "print('Number of features: %d' %nfeat)\n",
    "print('Number of components: %d' %ncomp)\n",
    "print('Component matrix shape: (%d,%d)' %(ncomp,nfeat))"
   ]
  },
  {
   "cell_type": "code",
   "execution_count": 7,
   "metadata": {},
   "outputs": [
    {
     "data": {
      "image/png": "[encoded data removed]",
      "text/plain": [
       "<Figure size 576x432 with 1 Axes>"
      ]
     },
     "metadata": {},
     "output_type": "display_data"
    },
    {
     "data": {
      "image/png": "[encoded data removed]",
      "text/plain": [
       "<Figure size 576x360 with 6 Axes>"
      ]
     },
     "metadata": {},
     "output_type": "display_data"
    }
   ],
   "source": [
    "# Explained variance\n",
    "sns.set(font_scale=1.5)\n",
    "X_variance = np.cumsum(pca.explained_variance_ratio_)\n",
    "component_number = np.arange(len(X_variance)) + 1\n",
    "\n",
    "plt.figure(1,figsize=(8,6))\n",
    "axes = plt.figure(1).gca()\n",
    "axes.plot(component_number, X_variance)\n",
    "axes.xaxis.set_major_locator(MaxNLocator(integer=True))\n",
    "axes.set(ylim=(0,1.1),\n",
    "            xlabel=\"Principal Mode\", \n",
    "            ylabel=\"Explained variance\",\n",
    "            title=\"Activation Time Atlas\");\n",
    "\n",
    "# Component weights\n",
    "X_weights = pca.transform(X_train)\n",
    "nplots = ncomp\n",
    "nplots = 6\n",
    "fig, axes = plt.subplots(nplots, 1, figsize=(8,np.min([ncomp,5])), sharex=True)\n",
    "for i, ax in enumerate(axes[:]):\n",
    "    ax.hist(X_weights[:,i], 20, (-2000,2000)) # default: 10, (-20,20)\n",
    "    ax.set_ylabel(i+1)\n",
    "    ax.set_yticks([])\n",
    "plt.xlabel('Training Weights');\n",
    "plt.text(-2700,1300,'Principal Mode', rotation='vertical');"
   ]
  },
  {
   "cell_type": "code",
   "execution_count": 9,
   "metadata": {
    "scrolled": false
   },
   "outputs": [
    {
     "data": {
      "image/png": "[encoded data removed]",
      "text/plain": [
       "<Figure size 576x432 with 1 Axes>"
      ]
     },
     "metadata": {},
     "output_type": "display_data"
    }
   ],
   "source": [
    "sns.set_style(\"ticks\")\n",
    "\n",
    "plt.figure(1,figsize=(8,6))\n",
    "axes = plt.figure(1).gca()\n",
    "axes.plot(component_number, X_variance*100, 'k',linewidth = 3)\n",
    "axes.xaxis.set_major_locator(MaxNLocator(integer=True))\n",
    "axes.xaxis.set_major_locator(ticker.MultipleLocator(2))\n",
    "axes.set(ylim=(0,101),\n",
    "            xlabel=\"Number of Modes\", \n",
    "            ylabel=\"Explained Variance (%)\");\n",
    "\n",
    "sns.despine()\n",
    "plt.savefig('Fig1A.pdf', transparent=True)"
   ]
  },
  {
   "cell_type": "code",
   "execution_count": null,
   "metadata": {},
   "outputs": [],
   "source": []
  },
  {
   "cell_type": "code",
   "execution_count": 10,
   "metadata": {},
   "outputs": [
    {
     "data": {
      "image/png": "[encoded data removed]",
      "text/plain": [
       "<Figure size 576x360 with 4 Axes>"
      ]
     },
     "metadata": {},
     "output_type": "display_data"
    }
   ],
   "source": [
    "# Component weights\n",
    "X_weights = pca.transform(X_train)\n",
    "nplots = ncomp\n",
    "nplots = 4\n",
    "\n",
    "# normalize\n",
    "for i in range(nplots):\n",
    "    X_weights[:,i] = X_weights[:,i]/(np.absolute(X_weights[:,i]).std())\n",
    "\n",
    "\n",
    "fig, axes = plt.subplots(nplots, 1, figsize=(8,np.min([ncomp,5])), sharex=True)\n",
    "for i, ax in enumerate(axes[:]):\n",
    "    ax.hist(X_weights[:,i], 20, (-4,5),color = \"black\") # default: 10, (-20,20)\n",
    "    ax.set_ylabel(i+1)\n",
    "    ax.set_yticks([])\n",
    "plt.xlabel('Normalized Mode Scores');\n",
    "plt.text(-5.5,340,'Mode', rotation='vertical');\n",
    "sns.despine()\n",
    "plt.savefig('Fig1C.pdf', transparent=True)"
   ]
  },
  {
   "cell_type": "markdown",
   "metadata": {},
   "source": [
    "# Save off Atlas"
   ]
  },
  {
   "cell_type": "code",
   "execution_count": null,
   "metadata": {},
   "outputs": [],
   "source": [
    "fname = 'AT_atlas_all.pickle'\n",
    "#joblib.dump(pca,fname)"
   ]
  },
  {
   "cell_type": "code",
   "execution_count": null,
   "metadata": {},
   "outputs": [],
   "source": [
    "fname = 'AT_atlas_all_weights.pickle'\n",
    "#joblib.dump(X_weights,fname)"
   ]
  },
  {
   "cell_type": "markdown",
   "metadata": {},
   "source": [
    "# Save off mode files"
   ]
  },
  {
   "cell_type": "code",
   "execution_count": null,
   "metadata": {},
   "outputs": [],
   "source": [
    "fname = 'AT_atlas_mean.txt'\n",
    "np.savetxt(fname,pca.mean_,fmt='%.2f')"
   ]
  },
  {
   "cell_type": "code",
   "execution_count": null,
   "metadata": {},
   "outputs": [],
   "source": [
    "modes = [1,2,3,4,5,6,7,8]\n",
    "percentiles = [5,95]\n",
    "\n",
    "for m in modes:\n",
    "    for p in percentiles:\n",
    "        comps = [m-1]\n",
    "        w = np.percentile(X_weights[:,m-1],p)\n",
    "        AT = pca.mean_ + np.dot(w,components[comps])\n",
    "        fname = 'AT_atlas_m%s_p%s.txt'%(m,p)\n",
    "        print(fname)\n",
    "        print(AT.min())\n",
    "        print(AT.max())\n",
    "        #np.savetxt(fname,AT,fmt='%.2f')"
   ]
  },
  {
   "cell_type": "markdown",
   "metadata": {},
   "source": [
    "# Save off rescaled modes"
   ]
  },
  {
   "cell_type": "code",
   "execution_count": null,
   "metadata": {},
   "outputs": [],
   "source": [
    "def normalize_rAT(AT):\n",
    "    AT_norm = AT - AT.min() + 1\n",
    "    AT_norm = AT_norm*100/AT_norm.max()\n",
    "    \n",
    "    return AT_norm"
   ]
  },
  {
   "cell_type": "code",
   "execution_count": null,
   "metadata": {},
   "outputs": [],
   "source": [
    "modes = [1,2,3,4,5,6,7,8]\n",
    "percentiles = [5,95]\n",
    "\n",
    "for m in modes:\n",
    "    for p in percentiles:\n",
    "        comps = [m-1]\n",
    "        w = np.percentile(X_weights[:,m-1],p)\n",
    "        AT = pca.mean_ + np.dot(w,components[comps])\n",
    "        AT = normalize_rAT(AT)\n",
    "        fname = 'AT_atlas_m%s_p%s_norm.txt'%(m,p)\n",
    "        print(fname)\n",
    "        print(AT.min())\n",
    "        print(AT.max())\n",
    "        #np.savetxt(fname,AT,fmt='%.2f')"
   ]
  },
  {
   "cell_type": "code",
   "execution_count": null,
   "metadata": {},
   "outputs": [],
   "source": [
    "fname = 'AT_atlas_mean_norm.txt'\n",
    "mean_AT_norm = normalize_rAT(pca.mean_)\n",
    "np.savetxt(fname,mean_AT_norm,fmt='%.2f')"
   ]
  },
  {
   "cell_type": "code",
   "execution_count": null,
   "metadata": {},
   "outputs": [],
   "source": []
  }
 ],
 "metadata": {
  "kernelspec": {
   "display_name": "Python 3",
   "language": "python",
   "name": "python3"
  },
  "language_info": {
   "codemirror_mode": {
    "name": "ipython",
    "version": 3
   },
   "file_extension": ".py",
   "mimetype": "text/x-python",
   "name": "python",
   "nbconvert_exporter": "python",
   "pygments_lexer": "ipython3",
   "version": "3.8.3"
  }
 },
 "nbformat": 4,
 "nbformat_minor": 4
}
