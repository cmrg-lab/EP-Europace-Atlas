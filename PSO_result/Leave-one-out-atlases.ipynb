{
 "cells": [
  {
   "cell_type": "code",
   "execution_count": 1,
   "metadata": {},
   "outputs": [],
   "source": [
    "import numpy as np\n",
    "import pandas as pd\n",
    "import matplotlib.pyplot as plt\n",
    "from matplotlib.ticker import MaxNLocator\n",
    "import matplotlib.ticker as ticker\n",
    "from sklearn.decomposition import PCA\n",
    "import seaborn as sns; sns.set_context(\"paper\");sns.set()\n",
    "from IPython.display import display\n",
    "import glob\n",
    "import sys\n",
    "import joblib\n",
    "sys.path.insert(-1,'../Tools')\n",
    "from data_parser_new import parse\n",
    "from data_modification import scale_at_patient\n",
    "\n",
    "%matplotlib inline"
   ]
  },
  {
   "cell_type": "code",
   "execution_count": 2,
   "metadata": {},
   "outputs": [],
   "source": [
    "data_path = '../Data/New_Simulations/'\n",
    "patients = [\n",
    "            parse(initial_path=data_path, patient_number=patient_no, at_map = True, verbose = False) \n",
    "        #for patient_no in [0]\n",
    "        for patient_no in range(0,8)\n",
    "]"
   ]
  },
  {
   "cell_type": "code",
   "execution_count": 3,
   "metadata": {},
   "outputs": [],
   "source": [
    "patients = [scale_at_patient(patient, length=100) for patient in patients]"
   ]
  },
  {
   "cell_type": "markdown",
   "metadata": {},
   "source": [
    "# No BiV1"
   ]
  },
  {
   "cell_type": "code",
   "execution_count": 4,
   "metadata": {},
   "outputs": [
    {
     "name": "stdout",
     "output_type": "stream",
     "text": [
      "BiV1\n",
      "[0, 1, 2, 4, 5, 6, 7]\n"
     ]
    }
   ],
   "source": [
    "pt = 3\n",
    "print(patients[pt]['pt_id'])\n",
    "pt_list = np.arange(len(patients)).tolist()\n",
    "pt_list.pop(pt)\n",
    "print(pt_list)"
   ]
  },
  {
   "cell_type": "code",
   "execution_count": null,
   "metadata": {},
   "outputs": [],
   "source": [
    "no_1_at = pd.concat([patients[i]['at_maps'].add_prefix(patients[i]['pt_id']+'_') for i in pt_list],axis=1)"
   ]
  },
  {
   "cell_type": "code",
   "execution_count": 6,
   "metadata": {},
   "outputs": [
    {
     "name": "stdout",
     "output_type": "stream",
     "text": [
      "X_train shape:  (1239, 10705)\n",
      "Number of features: 10705\n",
      "Number of components: 20\n",
      "Component matrix shape: (20,10705)\n"
     ]
    }
   ],
   "source": [
    "X_train = no_1_at.to_numpy().transpose()\n",
    "print('X_train shape: ',X_train.shape)\n",
    "\n",
    "# Run PCA\n",
    "pca = PCA(n_components=20)\n",
    "pca.fit(X_train) # fit trains the PCA\n",
    "eigvals = pca.singular_values_\n",
    "components = np.array(pca.components_)\n",
    "\n",
    "ncomp = components.shape[0]\n",
    "nfeat = components.shape[1]\n",
    "print('Number of features: %d' %nfeat)\n",
    "print('Number of components: %d' %ncomp)\n",
    "print('Component matrix shape: (%d,%d)' %(ncomp,nfeat))\n",
    "\n",
    "X_weights = pca.transform(X_train)"
   ]
  },
  {
   "cell_type": "code",
   "execution_count": 7,
   "metadata": {},
   "outputs": [
    {
     "data": {
      "text/plain": [
       "['noBiV1_AT_atlas_weights.pickle']"
      ]
     },
     "execution_count": 7,
     "metadata": {},
     "output_type": "execute_result"
    }
   ],
   "source": [
    "fname = 'noBiV1_AT_atlas.pickle'\n",
    "joblib.dump(pca,fname)\n",
    "\n",
    "fname = 'noBiV1_AT_atlas_weights.pickle'\n",
    "joblib.dump(X_weights,fname)"
   ]
  },
  {
   "cell_type": "markdown",
   "metadata": {},
   "source": [
    "# No BiV2"
   ]
  },
  {
   "cell_type": "code",
   "execution_count": 8,
   "metadata": {},
   "outputs": [
    {
     "name": "stdout",
     "output_type": "stream",
     "text": [
      "BiV2\n",
      "[0, 1, 2, 3, 4, 5, 7]\n"
     ]
    }
   ],
   "source": [
    "pt = 6\n",
    "print(patients[pt]['pt_id'])\n",
    "pt_list = np.arange(len(patients)).tolist()\n",
    "pt_list.pop(pt)\n",
    "print(pt_list)"
   ]
  },
  {
   "cell_type": "code",
   "execution_count": null,
   "metadata": {},
   "outputs": [],
   "source": [
    "no_2_at = pd.concat([patients[i]['at_maps'].add_prefix(patients[i]['pt_id']+'_') for i in pt_list],axis=1)"
   ]
  },
  {
   "cell_type": "code",
   "execution_count": 10,
   "metadata": {},
   "outputs": [
    {
     "name": "stdout",
     "output_type": "stream",
     "text": [
      "X_train shape:  (1254, 10705)\n",
      "Number of features: 10705\n",
      "Number of components: 20\n",
      "Component matrix shape: (20,10705)\n"
     ]
    }
   ],
   "source": [
    "X_train = no_2_at.to_numpy().transpose()\n",
    "print('X_train shape: ',X_train.shape)\n",
    "\n",
    "# Run PCA\n",
    "pca = PCA(n_components=20)\n",
    "pca.fit(X_train) # fit trains the PCA\n",
    "eigvals = pca.singular_values_\n",
    "components = np.array(pca.components_)\n",
    "\n",
    "ncomp = components.shape[0]\n",
    "nfeat = components.shape[1]\n",
    "print('Number of features: %d' %nfeat)\n",
    "print('Number of components: %d' %ncomp)\n",
    "print('Component matrix shape: (%d,%d)' %(ncomp,nfeat))\n",
    "\n",
    "X_weights = pca.transform(X_train)"
   ]
  },
  {
   "cell_type": "code",
   "execution_count": 11,
   "metadata": {},
   "outputs": [
    {
     "data": {
      "text/plain": [
       "['noBiV2_AT_atlas_weights.pickle']"
      ]
     },
     "execution_count": 11,
     "metadata": {},
     "output_type": "execute_result"
    }
   ],
   "source": [
    "fname = 'noBiV2_AT_atlas.pickle'\n",
    "joblib.dump(pca,fname)\n",
    "\n",
    "fname = 'noBiV2_AT_atlas_weights.pickle'\n",
    "joblib.dump(X_weights,fname)"
   ]
  },
  {
   "cell_type": "markdown",
   "metadata": {},
   "source": [
    "# No BiV3"
   ]
  },
  {
   "cell_type": "code",
   "execution_count": 12,
   "metadata": {},
   "outputs": [
    {
     "name": "stdout",
     "output_type": "stream",
     "text": [
      "BiV3\n",
      "[0, 1, 2, 3, 4, 6, 7]\n"
     ]
    }
   ],
   "source": [
    "pt = 5\n",
    "print(patients[pt]['pt_id'])\n",
    "pt_list = np.arange(len(patients)).tolist()\n",
    "pt_list.pop(pt)\n",
    "print(pt_list)"
   ]
  },
  {
   "cell_type": "code",
   "execution_count": null,
   "metadata": {},
   "outputs": [],
   "source": [
    "no_3_at = pd.concat([patients[i]['at_maps'].add_prefix(patients[i]['pt_id']+'_') for i in pt_list],axis=1)"
   ]
  },
  {
   "cell_type": "code",
   "execution_count": 14,
   "metadata": {},
   "outputs": [
    {
     "name": "stdout",
     "output_type": "stream",
     "text": [
      "X_train shape:  (1242, 10705)\n",
      "Number of features: 10705\n",
      "Number of components: 20\n",
      "Component matrix shape: (20,10705)\n"
     ]
    }
   ],
   "source": [
    "X_train = no_3_at.to_numpy().transpose()\n",
    "print('X_train shape: ',X_train.shape)\n",
    "\n",
    "# Run PCA\n",
    "pca = PCA(n_components=20)\n",
    "pca.fit(X_train) # fit trains the PCA\n",
    "eigvals = pca.singular_values_\n",
    "components = np.array(pca.components_)\n",
    "\n",
    "ncomp = components.shape[0]\n",
    "nfeat = components.shape[1]\n",
    "print('Number of features: %d' %nfeat)\n",
    "print('Number of components: %d' %ncomp)\n",
    "print('Component matrix shape: (%d,%d)' %(ncomp,nfeat))\n",
    "\n",
    "X_weights = pca.transform(X_train)"
   ]
  },
  {
   "cell_type": "code",
   "execution_count": 15,
   "metadata": {},
   "outputs": [
    {
     "data": {
      "text/plain": [
       "['noBiV3_AT_atlas_weights.pickle']"
      ]
     },
     "execution_count": 15,
     "metadata": {},
     "output_type": "execute_result"
    }
   ],
   "source": [
    "fname = 'noBiV3_AT_atlas.pickle'\n",
    "joblib.dump(pca,fname)\n",
    "\n",
    "fname = 'noBiV3_AT_atlas_weights.pickle'\n",
    "joblib.dump(X_weights,fname)"
   ]
  },
  {
   "cell_type": "markdown",
   "metadata": {},
   "source": [
    "# No BiV4"
   ]
  },
  {
   "cell_type": "code",
   "execution_count": 16,
   "metadata": {},
   "outputs": [
    {
     "name": "stdout",
     "output_type": "stream",
     "text": [
      "BiV4\n",
      "[0, 1, 2, 3, 5, 6, 7]\n"
     ]
    }
   ],
   "source": [
    "pt = 4\n",
    "print(patients[pt]['pt_id'])\n",
    "pt_list = np.arange(len(patients)).tolist()\n",
    "pt_list.pop(pt)\n",
    "print(pt_list)"
   ]
  },
  {
   "cell_type": "code",
   "execution_count": null,
   "metadata": {},
   "outputs": [],
   "source": [
    "no_4_at = pd.concat([patients[i]['at_maps'].add_prefix(patients[i]['pt_id']+'_') for i in pt_list],axis=1)"
   ]
  },
  {
   "cell_type": "code",
   "execution_count": 18,
   "metadata": {},
   "outputs": [
    {
     "name": "stdout",
     "output_type": "stream",
     "text": [
      "X_train shape:  (1239, 10705)\n",
      "Number of features: 10705\n",
      "Number of components: 20\n",
      "Component matrix shape: (20,10705)\n"
     ]
    }
   ],
   "source": [
    "X_train = no_4_at.to_numpy().transpose()\n",
    "print('X_train shape: ',X_train.shape)\n",
    "\n",
    "# Run PCA\n",
    "pca = PCA(n_components=20)\n",
    "pca.fit(X_train) # fit trains the PCA\n",
    "eigvals = pca.singular_values_\n",
    "components = np.array(pca.components_)\n",
    "\n",
    "ncomp = components.shape[0]\n",
    "nfeat = components.shape[1]\n",
    "print('Number of features: %d' %nfeat)\n",
    "print('Number of components: %d' %ncomp)\n",
    "print('Component matrix shape: (%d,%d)' %(ncomp,nfeat))\n",
    "\n",
    "X_weights = pca.transform(X_train)"
   ]
  },
  {
   "cell_type": "code",
   "execution_count": 19,
   "metadata": {},
   "outputs": [
    {
     "data": {
      "text/plain": [
       "['noBiV4_AT_atlas_weights.pickle']"
      ]
     },
     "execution_count": 19,
     "metadata": {},
     "output_type": "execute_result"
    }
   ],
   "source": [
    "fname = 'noBiV4_AT_atlas.pickle'\n",
    "joblib.dump(pca,fname)\n",
    "\n",
    "fname = 'noBiV4_AT_atlas_weights.pickle'\n",
    "joblib.dump(X_weights,fname)"
   ]
  },
  {
   "cell_type": "markdown",
   "metadata": {},
   "source": [
    "# No BiV5"
   ]
  },
  {
   "cell_type": "code",
   "execution_count": 20,
   "metadata": {},
   "outputs": [
    {
     "name": "stdout",
     "output_type": "stream",
     "text": [
      "BiV5\n",
      "[0, 1, 2, 3, 4, 5, 6]\n"
     ]
    }
   ],
   "source": [
    "pt = 7\n",
    "print(patients[pt]['pt_id'])\n",
    "pt_list = np.arange(len(patients)).tolist()\n",
    "pt_list.pop(pt)\n",
    "print(pt_list)"
   ]
  },
  {
   "cell_type": "code",
   "execution_count": null,
   "metadata": {},
   "outputs": [],
   "source": [
    "no_5_at = pd.concat([patients[i]['at_maps'].add_prefix(patients[i]['pt_id']+'_') for i in pt_list],axis=1)"
   ]
  },
  {
   "cell_type": "code",
   "execution_count": 22,
   "metadata": {},
   "outputs": [
    {
     "name": "stdout",
     "output_type": "stream",
     "text": [
      "X_train shape:  (1249, 10705)\n",
      "Number of features: 10705\n",
      "Number of components: 20\n",
      "Component matrix shape: (20,10705)\n"
     ]
    }
   ],
   "source": [
    "X_train = no_5_at.to_numpy().transpose()\n",
    "print('X_train shape: ',X_train.shape)\n",
    "\n",
    "# Run PCA\n",
    "pca = PCA(n_components=20)\n",
    "pca.fit(X_train) # fit trains the PCA\n",
    "eigvals = pca.singular_values_\n",
    "components = np.array(pca.components_)\n",
    "\n",
    "ncomp = components.shape[0]\n",
    "nfeat = components.shape[1]\n",
    "print('Number of features: %d' %nfeat)\n",
    "print('Number of components: %d' %ncomp)\n",
    "print('Component matrix shape: (%d,%d)' %(ncomp,nfeat))\n",
    "\n",
    "X_weights = pca.transform(X_train)"
   ]
  },
  {
   "cell_type": "code",
   "execution_count": 23,
   "metadata": {},
   "outputs": [
    {
     "data": {
      "text/plain": [
       "['noBiV5_AT_atlas_weights.pickle']"
      ]
     },
     "execution_count": 23,
     "metadata": {},
     "output_type": "execute_result"
    }
   ],
   "source": [
    "fname = 'noBiV5_AT_atlas.pickle'\n",
    "joblib.dump(pca,fname)\n",
    "\n",
    "fname = 'noBiV5_AT_atlas_weights.pickle'\n",
    "joblib.dump(X_weights,fname)"
   ]
  },
  {
   "cell_type": "markdown",
   "metadata": {},
   "source": [
    "# No BiV6"
   ]
  },
  {
   "cell_type": "code",
   "execution_count": 24,
   "metadata": {},
   "outputs": [
    {
     "name": "stdout",
     "output_type": "stream",
     "text": [
      "BiV6\n",
      "[0, 1, 3, 4, 5, 6, 7]\n"
     ]
    }
   ],
   "source": [
    "pt = 2\n",
    "print(patients[pt]['pt_id'])\n",
    "pt_list = np.arange(len(patients)).tolist()\n",
    "pt_list.pop(pt)\n",
    "print(pt_list)"
   ]
  },
  {
   "cell_type": "code",
   "execution_count": null,
   "metadata": {},
   "outputs": [],
   "source": [
    "no_6_at = pd.concat([patients[i]['at_maps'].add_prefix(patients[i]['pt_id']+'_') for i in pt_list],axis=1)"
   ]
  },
  {
   "cell_type": "code",
   "execution_count": 26,
   "metadata": {},
   "outputs": [
    {
     "name": "stdout",
     "output_type": "stream",
     "text": [
      "X_train shape:  (1239, 10705)\n",
      "Number of features: 10705\n",
      "Number of components: 20\n",
      "Component matrix shape: (20,10705)\n"
     ]
    }
   ],
   "source": [
    "X_train = no_6_at.to_numpy().transpose()\n",
    "print('X_train shape: ',X_train.shape)\n",
    "\n",
    "# Run PCA\n",
    "pca = PCA(n_components=20)\n",
    "pca.fit(X_train) # fit trains the PCA\n",
    "eigvals = pca.singular_values_\n",
    "components = np.array(pca.components_)\n",
    "\n",
    "ncomp = components.shape[0]\n",
    "nfeat = components.shape[1]\n",
    "print('Number of features: %d' %nfeat)\n",
    "print('Number of components: %d' %ncomp)\n",
    "print('Component matrix shape: (%d,%d)' %(ncomp,nfeat))\n",
    "\n",
    "X_weights = pca.transform(X_train)"
   ]
  },
  {
   "cell_type": "code",
   "execution_count": 27,
   "metadata": {},
   "outputs": [
    {
     "data": {
      "text/plain": [
       "['noBiV6_AT_atlas_weights.pickle']"
      ]
     },
     "execution_count": 27,
     "metadata": {},
     "output_type": "execute_result"
    }
   ],
   "source": [
    "fname = 'noBiV6_AT_atlas.pickle'\n",
    "joblib.dump(pca,fname)\n",
    "\n",
    "fname = 'noBiV6_AT_atlas_weights.pickle'\n",
    "joblib.dump(X_weights,fname)"
   ]
  },
  {
   "cell_type": "markdown",
   "metadata": {},
   "source": [
    "# No BiV7"
   ]
  },
  {
   "cell_type": "code",
   "execution_count": 28,
   "metadata": {},
   "outputs": [
    {
     "name": "stdout",
     "output_type": "stream",
     "text": [
      "BiV7\n",
      "[1, 2, 3, 4, 5, 6, 7]\n"
     ]
    }
   ],
   "source": [
    "pt = 0\n",
    "print(patients[pt]['pt_id'])\n",
    "pt_list = np.arange(len(patients)).tolist()\n",
    "pt_list.pop(pt)\n",
    "print(pt_list)"
   ]
  },
  {
   "cell_type": "code",
   "execution_count": null,
   "metadata": {},
   "outputs": [],
   "source": [
    "no_7_at = pd.concat([patients[i]['at_maps'].add_prefix(patients[i]['pt_id']+'_') for i in pt_list],axis=1)"
   ]
  },
  {
   "cell_type": "code",
   "execution_count": 30,
   "metadata": {},
   "outputs": [
    {
     "name": "stdout",
     "output_type": "stream",
     "text": [
      "X_train shape:  (1239, 10705)\n",
      "Number of features: 10705\n",
      "Number of components: 20\n",
      "Component matrix shape: (20,10705)\n"
     ]
    }
   ],
   "source": [
    "X_train = no_7_at.to_numpy().transpose()\n",
    "print('X_train shape: ',X_train.shape)\n",
    "\n",
    "# Run PCA\n",
    "pca = PCA(n_components=20)\n",
    "pca.fit(X_train) # fit trains the PCA\n",
    "eigvals = pca.singular_values_\n",
    "components = np.array(pca.components_)\n",
    "\n",
    "ncomp = components.shape[0]\n",
    "nfeat = components.shape[1]\n",
    "print('Number of features: %d' %nfeat)\n",
    "print('Number of components: %d' %ncomp)\n",
    "print('Component matrix shape: (%d,%d)' %(ncomp,nfeat))\n",
    "\n",
    "X_weights = pca.transform(X_train)"
   ]
  },
  {
   "cell_type": "code",
   "execution_count": 31,
   "metadata": {},
   "outputs": [
    {
     "data": {
      "text/plain": [
       "['noBiV7_AT_atlas_weights.pickle']"
      ]
     },
     "execution_count": 31,
     "metadata": {},
     "output_type": "execute_result"
    }
   ],
   "source": [
    "fname = 'noBiV7_AT_atlas.pickle'\n",
    "joblib.dump(pca,fname)\n",
    "\n",
    "fname = 'noBiV7_AT_atlas_weights.pickle'\n",
    "joblib.dump(X_weights,fname)"
   ]
  },
  {
   "cell_type": "markdown",
   "metadata": {},
   "source": [
    "# No BiV8"
   ]
  },
  {
   "cell_type": "code",
   "execution_count": 32,
   "metadata": {},
   "outputs": [
    {
     "name": "stdout",
     "output_type": "stream",
     "text": [
      "BiV8\n",
      "[0, 2, 3, 4, 5, 6, 7]\n"
     ]
    }
   ],
   "source": [
    "pt = 1\n",
    "print(patients[pt]['pt_id'])\n",
    "pt_list = np.arange(len(patients)).tolist()\n",
    "pt_list.pop(pt)\n",
    "print(pt_list)"
   ]
  },
  {
   "cell_type": "code",
   "execution_count": null,
   "metadata": {},
   "outputs": [],
   "source": [
    "no_8_at = pd.concat([patients[i]['at_maps'].add_prefix(patients[i]['pt_id']+'_') for i in pt_list],axis=1)"
   ]
  },
  {
   "cell_type": "code",
   "execution_count": 34,
   "metadata": {},
   "outputs": [
    {
     "name": "stdout",
     "output_type": "stream",
     "text": [
      "X_train shape:  (1239, 10705)\n",
      "Number of features: 10705\n",
      "Number of components: 20\n",
      "Component matrix shape: (20,10705)\n"
     ]
    }
   ],
   "source": [
    "X_train = no_8_at.to_numpy().transpose()\n",
    "print('X_train shape: ',X_train.shape)\n",
    "\n",
    "# Run PCA\n",
    "pca = PCA(n_components=20)\n",
    "pca.fit(X_train) # fit trains the PCA\n",
    "eigvals = pca.singular_values_\n",
    "components = np.array(pca.components_)\n",
    "\n",
    "ncomp = components.shape[0]\n",
    "nfeat = components.shape[1]\n",
    "print('Number of features: %d' %nfeat)\n",
    "print('Number of components: %d' %ncomp)\n",
    "print('Component matrix shape: (%d,%d)' %(ncomp,nfeat))\n",
    "\n",
    "X_weights = pca.transform(X_train)"
   ]
  },
  {
   "cell_type": "code",
   "execution_count": 35,
   "metadata": {},
   "outputs": [
    {
     "data": {
      "text/plain": [
       "['noBiV8_AT_atlas_weights.pickle']"
      ]
     },
     "execution_count": 35,
     "metadata": {},
     "output_type": "execute_result"
    }
   ],
   "source": [
    "fname = 'noBiV8_AT_atlas.pickle'\n",
    "joblib.dump(pca,fname)\n",
    "\n",
    "fname = 'noBiV8_AT_atlas_weights.pickle'\n",
    "joblib.dump(X_weights,fname)"
   ]
  }
 ],
 "metadata": {
  "kernelspec": {
   "display_name": "Python 3",
   "language": "python",
   "name": "python3"
  },
  "language_info": {
   "codemirror_mode": {
    "name": "ipython",
    "version": 3
   },
   "file_extension": ".py",
   "mimetype": "text/x-python",
   "name": "python",
   "nbconvert_exporter": "python",
   "pygments_lexer": "ipython3",
   "version": "3.8.3"
  }
 },
 "nbformat": 4,
 "nbformat_minor": 4
}
