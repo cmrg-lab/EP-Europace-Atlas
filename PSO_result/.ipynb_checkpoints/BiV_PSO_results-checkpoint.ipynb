{
 "cells": [
  {
   "cell_type": "code",
   "execution_count": 1,
   "metadata": {},
   "outputs": [],
   "source": [
    "import numpy as np\n",
    "import pandas as pd\n",
    "import glob as gb\n",
    "\n",
    "from scipy.signal import resample\n",
    "from numpy.linalg import norm\n",
    "\n",
    "\n",
    "import matplotlib.pyplot as plt\n",
    "from matplotlib.ticker import MaxNLocator\n",
    "#import seaborn as sns\n",
    "#sns.set()\n",
    "\n",
    "import joblib\n",
    "import re\n",
    "import sys\n",
    "sys.path.insert(-1,'../Tools')\n",
    "from data_parser_new import parse\n",
    "from data_modification import calc_cost_patient, normalize_patient, trim_tat_patient, resample_patient\n",
    "from data_analysis import prol2cart, cart2prol, prolateHammer, plot_vcgs, calc_cost"
   ]
  },
  {
   "cell_type": "markdown",
   "metadata": {},
   "source": [
    "# Load in PSO results - Theta"
   ]
  },
  {
   "cell_type": "code",
   "execution_count": 13,
   "metadata": {},
   "outputs": [],
   "source": [
    "fdir = '../Data/biv_pso_results/theta/'\n",
    "files = gb.glob(fdir+'BiV*.pickle')"
   ]
  },
  {
   "cell_type": "code",
   "execution_count": 16,
   "metadata": {},
   "outputs": [],
   "source": [
    "best_pos = {}\n",
    "best_cost = {}\n",
    "cost_history = {}\n",
    "cost_history_all = {}\n",
    "pos_history = {}\n",
    "opt_vcg = {}\n",
    "\n",
    "for file in files:\n",
    "    biv = file.rsplit('/',1)[1].split('_',1)[0]\n",
    "    out = joblib.load(file)\n",
    "    best_pos[biv], best_cost[biv], cost_history[biv], cost_history_all[biv], pos_history[biv], opt_vcg[biv] = out"
   ]
  },
  {
   "cell_type": "code",
   "execution_count": 17,
   "metadata": {},
   "outputs": [
    {
     "data": {
      "text/plain": [
       "dict_keys(['BiV1', 'BiV4', 'BiV3', 'BiV6', 'BiV5', 'BiV8', 'BiV7', 'BiV2'])"
      ]
     },
     "execution_count": 17,
     "metadata": {},
     "output_type": "execute_result"
    }
   ],
   "source": [
    "best_pos.keys()"
   ]
  },
  {
   "cell_type": "code",
   "execution_count": 38,
   "metadata": {},
   "outputs": [
    {
     "name": "stdout",
     "output_type": "stream",
     "text": [
      "mean = 0.0569\n",
      "std = 0.0264\n"
     ]
    }
   ],
   "source": [
    "print('mean = %.4f'%np.array(list(best_cost.values())).mean())\n",
    "print('std = %.4f'%np.array(list(best_cost.values())).std())"
   ]
  },
  {
   "cell_type": "code",
   "execution_count": 31,
   "metadata": {},
   "outputs": [
    {
     "data": {
      "text/plain": [
       "{'BiV1': 0.11395669780214122,\n",
       " 'BiV4': 0.05604242861677793,\n",
       " 'BiV3': 0.028561980911377207,\n",
       " 'BiV6': 0.0799573677933197,\n",
       " 'BiV5': 0.04659043825498974,\n",
       " 'BiV8': 0.04696945233697366,\n",
       " 'BiV7': 0.05421975782638899,\n",
       " 'BiV2': 0.02921037300970464}"
      ]
     },
     "execution_count": 31,
     "metadata": {},
     "output_type": "execute_result"
    }
   ],
   "source": [
    "best_cost"
   ]
  },
  {
   "cell_type": "markdown",
   "metadata": {},
   "source": [
    "# Load Clinical VCGs"
   ]
  },
  {
   "cell_type": "code",
   "execution_count": 42,
   "metadata": {},
   "outputs": [],
   "source": [
    "pt_path = '../Data/'\n",
    "pt_files = gb.glob(pt_path+'*/*LBBB_kVCG_model-out.txt')"
   ]
  },
  {
   "cell_type": "code",
   "execution_count": 46,
   "metadata": {},
   "outputs": [],
   "source": [
    "pt_vcg = {}\n",
    "for file in pt_files:\n",
    "    biv = file.rsplit('/',1)[1].split('-',1)[0]\n",
    "    vcg = pd.read_csv(file,header=None, names=['VCGx', 'VCGy', 'VCGz'], sep=' ', index_col=False)\n",
    "    vcg = pd.DataFrame(data=resample(vcg,100), columns=['VCGx', 'VCGy', 'VCGz'])\n",
    "    pt_vcg[biv] = vcg / norm(vcg,axis=1).max()"
   ]
  },
  {
   "cell_type": "code",
   "execution_count": 48,
   "metadata": {},
   "outputs": [
    {
     "data": {
      "text/plain": [
       "dict_keys(['BiV7', 'BiV8', 'BiV6', 'BiV1', 'BiV4', 'BiV3', 'BiV2', 'BiV5'])"
      ]
     },
     "execution_count": 48,
     "metadata": {},
     "output_type": "execute_result"
    }
   ],
   "source": [
    "pt_vcg.keys()"
   ]
  },
  {
   "cell_type": "markdown",
   "metadata": {},
   "source": [
    "# Load PSO results - RMS"
   ]
  },
  {
   "cell_type": "code",
   "execution_count": 71,
   "metadata": {},
   "outputs": [],
   "source": [
    "fdir = '../Data/biv_pso_results/rms/'\n",
    "files = gb.glob(fdir+'BiV*.pickle')"
   ]
  },
  {
   "cell_type": "code",
   "execution_count": 72,
   "metadata": {},
   "outputs": [],
   "source": [
    "best_pos = {}\n",
    "best_cost = {}\n",
    "cost_history = {}\n",
    "cost_history_all = {}\n",
    "pos_history = {}\n",
    "opt_vcg = {}\n",
    "\n",
    "for file in files:\n",
    "    biv = file.rsplit('/',1)[1].split('_',1)[0]\n",
    "    out = joblib.load(file)\n",
    "    best_pos[biv], best_cost[biv], cost_history[biv], cost_history_all[biv], pos_history[biv], opt_vcg[biv] = out"
   ]
  },
  {
   "cell_type": "code",
   "execution_count": 73,
   "metadata": {},
   "outputs": [
    {
     "data": {
      "text/plain": [
       "dict_keys(['BiV1', 'BiV4', 'BiV3', 'BiV6', 'BiV5', 'BiV8', 'BiV7', 'BiV2'])"
      ]
     },
     "execution_count": 73,
     "metadata": {},
     "output_type": "execute_result"
    }
   ],
   "source": [
    "best_pos.keys()"
   ]
  },
  {
   "cell_type": "code",
   "execution_count": 74,
   "metadata": {},
   "outputs": [
    {
     "name": "stdout",
     "output_type": "stream",
     "text": [
      "mean = 0.4306\n",
      "std = 0.1569\n"
     ]
    }
   ],
   "source": [
    "print('mean = %.4f'%np.array(list(best_cost.values())).mean())\n",
    "print('std = %.4f'%np.array(list(best_cost.values())).std())"
   ]
  },
  {
   "cell_type": "code",
   "execution_count": 75,
   "metadata": {},
   "outputs": [
    {
     "data": {
      "text/plain": [
       "{'BiV1': 0.6621578401729638,\n",
       " 'BiV4': 0.4277405283832708,\n",
       " 'BiV3': 0.23222854543362453,\n",
       " 'BiV6': 0.56903390213521,\n",
       " 'BiV5': 0.5717605259436964,\n",
       " 'BiV8': 0.409816870517167,\n",
       " 'BiV7': 0.39260749727287764,\n",
       " 'BiV2': 0.17960872287090318}"
      ]
     },
     "execution_count": 75,
     "metadata": {},
     "output_type": "execute_result"
    }
   ],
   "source": [
    "best_cost"
   ]
  },
  {
   "cell_type": "code",
   "execution_count": null,
   "metadata": {},
   "outputs": [],
   "source": []
  }
 ],
 "metadata": {
  "kernelspec": {
   "display_name": "Python 3",
   "language": "python",
   "name": "python3"
  },
  "language_info": {
   "codemirror_mode": {
    "name": "ipython",
    "version": 3
   },
   "file_extension": ".py",
   "mimetype": "text/x-python",
   "name": "python",
   "nbconvert_exporter": "python",
   "pygments_lexer": "ipython3",
   "version": "3.8.3"
  }
 },
 "nbformat": 4,
 "nbformat_minor": 4
}
